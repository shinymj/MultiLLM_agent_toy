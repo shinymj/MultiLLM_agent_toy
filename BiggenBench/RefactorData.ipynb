{
 "cells": [
  {
   "cell_type": "code",
   "execution_count": 1,
   "id": "29babb8b",
   "metadata": {},
   "outputs": [
    {
     "name": "stderr",
     "output_type": "stream",
     "text": [
      "d:\\code_multiLLM_agent_toy\\myvenv\\Lib\\site-packages\\tqdm\\auto.py:21: TqdmWarning: IProgress not found. Please update jupyter and ipywidgets. See https://ipywidgets.readthedocs.io/en/stable/user_install.html\n",
      "  from .autonotebook import tqdm as notebook_tqdm\n"
     ]
    }
   ],
   "source": [
    "from datasets import load_from_disk"
   ]
  },
  {
   "cell_type": "code",
   "execution_count": 2,
   "id": "c6c2aabf",
   "metadata": {},
   "outputs": [
    {
     "name": "stdout",
     "output_type": "stream",
     "text": [
      "DatasetDict({\n",
      "    test: Dataset({\n",
      "        features: ['id', 'capability', 'task', 'instance_idx', 'system_prompt', 'input', 'reference_answer', 'score_rubric'],\n",
      "        num_rows: 765\n",
      "    })\n",
      "})\n"
     ]
    }
   ],
   "source": [
    "# 저장한 경로에서 데이터셋 로드\n",
    "ds = load_from_disk(\"./biggen_bench_dataset\")\n",
    "\n",
    "# 데이터셋 확인\n",
    "print(ds)\n"
   ]
  },
  {
   "cell_type": "code",
   "execution_count": 3,
   "id": "42c60db6",
   "metadata": {},
   "outputs": [
    {
     "name": "stdout",
     "output_type": "stream",
     "text": [
      "{'id': 'planning_travel_plan_0', 'capability': 'planning', 'task': 'travel_plan', 'instance_idx': 0, 'system_prompt': 'You are a travel agent that can design travel plans.', 'input': 'Design a travel plan for a tourist traveling to the given destination. The tourist has a list of requirements and you should design your plan such that it satisfies all of these requirements.\\n\\nDestination: Paris\\n\\nRequirements:\\n- Total Duration: 2 days and 1 night\\n- Transportation: Walk\\n- Must Have: Eiffel Tower, Louvre Museum, Escargot\\n- Optional: Croissant, Onion Soup, Notre Dame Cathedral', 'reference_answer': 'Day 1 - Morning:\\n- Visit the Louvre Museum (3 hours)\\n- Walk to Café de Flore (15 minutes)\\nDay 1 - Lunch:\\n- Café de Flore - Enjoy croissants and French cuisine (1 hour)\\nDay 1 - Afternoon:\\n- Walk to Notre Dame Cathedral (20 minutes)\\n- Explore Notre Dame (1.5 hours)\\n- Walk to Eiffel Tower (1 hour)\\nDay 1 - Evening:\\n- Visit Eiffel Tower (2 hours)\\n- Walk to Le Petit Cler (15 minutes)\\nDay 1 - Dinner:\\n- Le Petit Cler - Try Escargot and French Onion Soup (1.5 hours)\\n\\nDay 2 - Morning:\\n- Leisure time around Eiffel Tower area (1 hour)\\n- Walk to Sainte-Chapelle (1 hour)\\nDay 2 - Midday:\\n- Visit Sainte-Chapelle (1 hour)\\n- Walk to nearby café (20 minutes)\\nDay 2 - Lunch:\\n- Les Deux Magots - Experience Parisian café culture (1 hour)\\nDay 2 - Afternoon:\\n- Stroll along the Seine River, enjoy local street food and shops (2 hours)', 'score_rubric': {'criteria': \"Does the response effectively plan a tourist's 2-day trip to Paris, incorporating the must-have experiences within the given constraints (walking as transportation, including Eiffel Tower, Louvre Museum, and Escargot), while also considering the optional items?\", 'score1_description': 'The response outlines a basic itinerary but misses more than two must-have experiences or does not consider the walking-only transportation constraint, showing a lack of detailed planning.', 'score2_description': 'The response includes all must-have experiences and adheres to the walking-only transportation constraint, but the plan is unrealistic or poorly structured (e.g., significant backtracking or timing issues), showing some effort in planning but lacking in feasibility or efficiency.', 'score3_description': \"The response successfully incorporates all must-have experiences and the walking-only transportation constraint, with a realistic and somewhat efficient itinerary. However, it misses the opportunity to include any optional items, showing good planning but limited optimization for the tourist's experience.\", 'score4_description': \"The response includes all must-have experiences and adheres to the walking-only transportation constraint with a realistic and efficient itinerary. It includes at least one optional item, showing very good planning that enhances the tourist's experience.\", 'score5_description': 'The response presents a well-thought-out, efficient, and realistic itinerary that includes all must-have experiences within the walking-only constraint and incorporates all optional items, demonstrating excellent planning and optimization for an enriching tourist experience.'}}\n"
     ]
    }
   ],
   "source": [
    "# 테스트 데이터 접근\n",
    "test_data = ds[\"test\"]\n",
    "print(test_data[0])  # 첫 번째 샘플 확인"
   ]
  },
  {
   "cell_type": "code",
   "execution_count": 4,
   "id": "2587c8d5",
   "metadata": {},
   "outputs": [],
   "source": [
    "# pandas로 변환\n",
    "test_df = ds[\"test\"].to_pandas()"
   ]
  },
  {
   "cell_type": "code",
   "execution_count": 5,
   "id": "91ddd634",
   "metadata": {},
   "outputs": [
    {
     "name": "stdout",
     "output_type": "stream",
     "text": [
      "                       id capability         task  instance_idx  \\\n",
      "0  planning_travel_plan_0   planning  travel_plan             0   \n",
      "1  planning_travel_plan_1   planning  travel_plan             1   \n",
      "2  planning_travel_plan_2   planning  travel_plan             2   \n",
      "3  planning_travel_plan_3   planning  travel_plan             3   \n",
      "4  planning_travel_plan_4   planning  travel_plan             4   \n",
      "\n",
      "                                       system_prompt  \\\n",
      "0  You are a travel agent that can design travel ...   \n",
      "1  You are a travel agent that can design travel ...   \n",
      "2  You are a travel agent that can design travel ...   \n",
      "3  You are a travel agent that can design travel ...   \n",
      "4  You are a travel agent that can design travel ...   \n",
      "\n",
      "                                               input  \\\n",
      "0  Design a travel plan for a tourist traveling t...   \n",
      "1  Design a travel plan for a tourist traveling t...   \n",
      "2  Design a travel plan for a tourist traveling t...   \n",
      "3  Craft a detailed travel itinerary for a client...   \n",
      "4  Develop a comprehensive travel itinerary for a...   \n",
      "\n",
      "                                    reference_answer  \\\n",
      "0  Day 1 - Morning:\\n- Visit the Louvre Museum (3...   \n",
      "1  Day 1- Morning:\\n- Explore Chiang Kai-Shek Mem...   \n",
      "2  Day 1 - Morning:\\n- Visit the Buda Castle and ...   \n",
      "3  Day 1 - Morning:\\n- Visit Tsukiji Fish Market ...   \n",
      "4  Day 1 - Morning:\\n- Tour Gyeongbokgung Palace ...   \n",
      "\n",
      "                                        score_rubric  \n",
      "0  {'criteria': 'Does the response effectively pl...  \n",
      "1  {'criteria': 'Does the response effectively pl...  \n",
      "2  {'criteria': 'Does the response effectively pl...  \n",
      "3  {'criteria': 'Does the response effectively cr...  \n",
      "4  {'criteria': 'Does the response effectively de...  \n"
     ]
    }
   ],
   "source": [
    "# 데이터 확인\n",
    "print(test_df.head())"
   ]
  },
  {
   "cell_type": "code",
   "execution_count": 7,
   "id": "f1416628",
   "metadata": {},
   "outputs": [
    {
     "name": "stdout",
     "output_type": "stream",
     "text": [
      "사용 가능한 필드: ['id', 'capability', 'task', 'instance_idx', 'system_prompt', 'input', 'reference_answer', 'score_rubric']\n"
     ]
    }
   ],
   "source": [
    "# 데이터셋의 특정 필드만 확인\n",
    "field_names = ds[\"test\"].column_names\n",
    "print(f\"사용 가능한 필드: {field_names}\")"
   ]
  },
  {
   "cell_type": "code",
   "execution_count": 8,
   "id": "0d167c51",
   "metadata": {},
   "outputs": [
    {
     "name": "stdout",
     "output_type": "stream",
     "text": [
      "['planning' 'theory_of_mind' 'instruction_following' 'multilingual'\n",
      " 'reasoning' 'tool_usage' 'grounding' 'refinement' 'safety']\n"
     ]
    }
   ],
   "source": [
    "unique_capabilities = test_df['capability'].unique()\n",
    "print(unique_capabilities)"
   ]
  },
  {
   "cell_type": "code",
   "execution_count": null,
   "id": "46d73854",
   "metadata": {},
   "outputs": [],
   "source": [
    "# CSV로 내보내기\n",
    "ds[\"test\"].to_pandas().to_csv(\"./biggen_bench_dataset/processed/biggen_bench_datase.csv\", encoding=\"utf-8\", index=False)\n"
   ]
  },
  {
   "cell_type": "code",
   "execution_count": 9,
   "id": "d839d42d",
   "metadata": {},
   "outputs": [],
   "source": [
    "import json\n",
    "\n",
    "# JSON으로 내보내기\n",
    "with open(\"./biggen_bench_dataset/processed/biggen_bench_dataset.json\", \"w\", encoding=\"utf-8\") as f:\n",
    "    # ds[\"test\"][:]를 pandas DataFrame으로 변환 후 records 형식으로 변환\n",
    "    json_data = ds[\"test\"].to_pandas().to_dict(orient=\"records\")\n",
    "    json.dump(json_data, f, ensure_ascii=False, indent=2)"
   ]
  },
  {
   "cell_type": "code",
   "execution_count": null,
   "id": "13539622",
   "metadata": {},
   "outputs": [],
   "source": [
    "json_data[:5]  # 첫 5개 샘플 확인"
   ]
  },
  {
   "cell_type": "code",
   "execution_count": 14,
   "id": "58b6add3",
   "metadata": {},
   "outputs": [],
   "source": [
    "# \"capability\"가 \"refinement\"인 항목만 필터링\n",
    "refinement_data = [item for item in json_data if item[\"capability\"] == \"refinement\"]\n",
    "\n",
    "# 필터링된 데이터를 새로운 JSON 파일로 저장\n",
    "with open(\"./biggen_bench_dataset/processed/biggen_bench_refinement.json\", \"w\", encoding=\"utf-8\") as f:\n",
    "    json.dump(refinement_data, f, ensure_ascii=False, indent=2)"
   ]
  },
  {
   "cell_type": "code",
   "execution_count": null,
   "id": "7e4a0e53",
   "metadata": {},
   "outputs": [],
   "source": [
    "# \"capability\"가 \"safety\"인 항목만 필터링\n",
    "safety_data = [item for item in json_data if item[\"capability\"] == \"safety\"]\n",
    "\n",
    "# 필터링된 데이터를 새로운 JSON 파일로 저장\n",
    "with open(\"./biggen_bench_dataset/processed/biggen_bench_safety.json\", \"w\", encoding=\"utf-8\") as f:\n",
    "    json.dump(safety_data, f, ensure_ascii=False, indent=2)"
   ]
  },
  {
   "cell_type": "code",
   "execution_count": 10,
   "id": "c5f58ff1",
   "metadata": {},
   "outputs": [],
   "source": [
    "# \"capability\"가 \"theory_of_mind\"인 항목만 필터링\n",
    "ToM_data = [item for item in json_data if item[\"capability\"] == \"theory_of_mind\"]\n",
    "\n",
    "# 필터링된 데이터를 새로운 JSON 파일로 저장\n",
    "with open(\"./biggen_bench_dataset/processed/biggen_bench_ToM.json\", \"w\", encoding=\"utf-8\") as f:\n",
    "    json.dump(ToM_data, f, ensure_ascii=False, indent=2)"
   ]
  },
  {
   "cell_type": "code",
   "execution_count": 11,
   "id": "2afed53e",
   "metadata": {},
   "outputs": [],
   "source": [
    "# \"capability\"가 \"instruction_following\"인 항목만 필터링\n",
    "instruction_data = [item for item in json_data if item[\"capability\"] == \"instruction_following\"]\n",
    "\n",
    "# # 필터링된 데이터를 새로운 JSON 파일로 저장\n",
    "# with open(\"./biggen_bench_dataset/processed/biggen_bench_instruction.json\", \"w\", encoding=\"utf-8\") as f:\n",
    "#     json.dump(instruction_data, f, ensure_ascii=False, indent=2)"
   ]
  },
  {
   "cell_type": "code",
   "execution_count": 12,
   "id": "fc41d076",
   "metadata": {},
   "outputs": [],
   "source": [
    "# \"instance_idx\"가 0인 instruction_following 항목만 필터링\n",
    "instruction_idx0_data = [item for item in instruction_data if item[\"instance_idx\"] == 0]\n",
    "\n",
    "# 필터링된 데이터를 새로운 JSON 파일로 저장\n",
    "with open(\"./biggen_bench_dataset/processed/biggen_bench_instruction_idx0.json\", \"w\", encoding=\"utf-8\") as f:\n",
    "    json.dump(instruction_idx0_data, f, ensure_ascii=False, indent=2)\n"
   ]
  },
  {
   "cell_type": "code",
   "execution_count": null,
   "id": "9d50a002",
   "metadata": {},
   "outputs": [],
   "source": [
    "# Extract \"system_prompt\" values from the list of dictionaries\n",
    "system_prompts = [item[\"system_prompt\"] for item in ToM_data if \"system_prompt\" in item]\n",
    "# Get unique values\n",
    "unique_system_ToM = list(set(system_prompts))\n",
    "num_unique_system_ToM = len(unique_system_ToM)\n",
    "print(unique_system_ToM)\n",
    "print(f\"Number of unique values in unique_system_ToM: {num_unique_system_ToM}\")\n",
    "\n",
    "# "
   ]
  }
 ],
 "metadata": {
  "kernelspec": {
   "display_name": "myvenv",
   "language": "python",
   "name": "myvenv"
  },
  "language_info": {
   "codemirror_mode": {
    "name": "ipython",
    "version": 3
   },
   "file_extension": ".py",
   "mimetype": "text/x-python",
   "name": "python",
   "nbconvert_exporter": "python",
   "pygments_lexer": "ipython3",
   "version": "3.12.4"
  }
 },
 "nbformat": 4,
 "nbformat_minor": 5
}
