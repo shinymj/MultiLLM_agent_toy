{
 "cells": [
  {
   "cell_type": "code",
   "execution_count": 1,
   "id": "29babb8b",
   "metadata": {},
   "outputs": [
    {
     "name": "stderr",
     "output_type": "stream",
     "text": [
      "d:\\code_multiLLM_agent_toy\\BiggenBench\\.venv\\Lib\\site-packages\\tqdm\\auto.py:21: TqdmWarning: IProgress not found. Please update jupyter and ipywidgets. See https://ipywidgets.readthedocs.io/en/stable/user_install.html\n",
      "  from .autonotebook import tqdm as notebook_tqdm\n"
     ]
    }
   ],
   "source": [
    "from datasets import load_from_disk"
   ]
  },
  {
   "cell_type": "code",
   "execution_count": 2,
   "id": "c6c2aabf",
   "metadata": {},
   "outputs": [
    {
     "name": "stdout",
     "output_type": "stream",
     "text": [
      "DatasetDict({\n",
      "    test: Dataset({\n",
      "        features: ['id', 'capability', 'task', 'instance_idx', 'system_prompt', 'input', 'reference_answer', 'score_rubric'],\n",
      "        num_rows: 765\n",
      "    })\n",
      "})\n"
     ]
    }
   ],
   "source": [
    "# 저장한 경로에서 데이터셋 로드\n",
    "ds = load_from_disk(\"./biggen_bench_dataset\")\n",
    "\n",
    "# 데이터셋 확인\n",
    "print(ds)\n"
   ]
  },
  {
   "cell_type": "code",
   "execution_count": null,
   "id": "42c60db6",
   "metadata": {},
   "outputs": [
    {
     "name": "stdout",
     "output_type": "stream",
     "text": [
      "{'id': 'planning_travel_plan_0', 'capability': 'planning', 'task': 'travel_plan', 'instance_idx': 0, 'system_prompt': 'You are a travel agent that can design travel plans.', 'input': 'Design a travel plan for a tourist traveling to the given destination. The tourist has a list of requirements and you should design your plan such that it satisfies all of these requirements.\\n\\nDestination: Paris\\n\\nRequirements:\\n- Total Duration: 2 days and 1 night\\n- Transportation: Walk\\n- Must Have: Eiffel Tower, Louvre Museum, Escargot\\n- Optional: Croissant, Onion Soup, Notre Dame Cathedral', 'reference_answer': 'Day 1 - Morning:\\n- Visit the Louvre Museum (3 hours)\\n- Walk to Café de Flore (15 minutes)\\nDay 1 - Lunch:\\n- Café de Flore - Enjoy croissants and French cuisine (1 hour)\\nDay 1 - Afternoon:\\n- Walk to Notre Dame Cathedral (20 minutes)\\n- Explore Notre Dame (1.5 hours)\\n- Walk to Eiffel Tower (1 hour)\\nDay 1 - Evening:\\n- Visit Eiffel Tower (2 hours)\\n- Walk to Le Petit Cler (15 minutes)\\nDay 1 - Dinner:\\n- Le Petit Cler - Try Escargot and French Onion Soup (1.5 hours)\\n\\nDay 2 - Morning:\\n- Leisure time around Eiffel Tower area (1 hour)\\n- Walk to Sainte-Chapelle (1 hour)\\nDay 2 - Midday:\\n- Visit Sainte-Chapelle (1 hour)\\n- Walk to nearby café (20 minutes)\\nDay 2 - Lunch:\\n- Les Deux Magots - Experience Parisian café culture (1 hour)\\nDay 2 - Afternoon:\\n- Stroll along the Seine River, enjoy local street food and shops (2 hours)', 'score_rubric': {'criteria': \"Does the response effectively plan a tourist's 2-day trip to Paris, incorporating the must-have experiences within the given constraints (walking as transportation, including Eiffel Tower, Louvre Museum, and Escargot), while also considering the optional items?\", 'score1_description': 'The response outlines a basic itinerary but misses more than two must-have experiences or does not consider the walking-only transportation constraint, showing a lack of detailed planning.', 'score2_description': 'The response includes all must-have experiences and adheres to the walking-only transportation constraint, but the plan is unrealistic or poorly structured (e.g., significant backtracking or timing issues), showing some effort in planning but lacking in feasibility or efficiency.', 'score3_description': \"The response successfully incorporates all must-have experiences and the walking-only transportation constraint, with a realistic and somewhat efficient itinerary. However, it misses the opportunity to include any optional items, showing good planning but limited optimization for the tourist's experience.\", 'score4_description': \"The response includes all must-have experiences and adheres to the walking-only transportation constraint with a realistic and efficient itinerary. It includes at least one optional item, showing very good planning that enhances the tourist's experience.\", 'score5_description': 'The response presents a well-thought-out, efficient, and realistic itinerary that includes all must-have experiences within the walking-only constraint and incorporates all optional items, demonstrating excellent planning and optimization for an enriching tourist experience.'}}\n"
     ]
    }
   ],
   "source": [
    "# 테스트 데이터 접근\n",
    "test_data = ds[\"test\"]\n",
    "print(test_data[0])  # 첫 번째 샘플 확인"
   ]
  }
 ],
 "metadata": {
  "kernelspec": {
   "display_name": ".venv",
   "language": "python",
   "name": "python3"
  },
  "language_info": {
   "codemirror_mode": {
    "name": "ipython",
    "version": 3
   },
   "file_extension": ".py",
   "mimetype": "text/x-python",
   "name": "python",
   "nbconvert_exporter": "python",
   "pygments_lexer": "ipython3",
   "version": "3.11.2"
  }
 },
 "nbformat": 4,
 "nbformat_minor": 5
}
