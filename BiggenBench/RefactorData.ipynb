{
 "cells": [
  {
   "cell_type": "code",
   "execution_count": 3,
   "id": "29babb8b",
   "metadata": {},
   "outputs": [
    {
     "name": "stderr",
     "output_type": "stream",
     "text": [
      "d:\\code_multiLLM_agent_toy\\BiggenBench\\.venv\\Lib\\site-packages\\tqdm\\auto.py:21: TqdmWarning: IProgress not found. Please update jupyter and ipywidgets. See https://ipywidgets.readthedocs.io/en/stable/user_install.html\n",
      "  from .autonotebook import tqdm as notebook_tqdm\n"
     ]
    }
   ],
   "source": [
    "from datasets import load_from_disk"
   ]
  },
  {
   "cell_type": "code",
   "execution_count": 4,
   "id": "c6c2aabf",
   "metadata": {},
   "outputs": [
    {
     "name": "stdout",
     "output_type": "stream",
     "text": [
      "DatasetDict({\n",
      "    test: Dataset({\n",
      "        features: ['id', 'capability', 'task', 'instance_idx', 'system_prompt', 'input', 'reference_answer', 'score_rubric'],\n",
      "        num_rows: 765\n",
      "    })\n",
      "})\n"
     ]
    }
   ],
   "source": [
    "# 저장한 경로에서 데이터셋 로드\n",
    "ds = load_from_disk(\"./biggen_bench_dataset\")\n",
    "\n",
    "# 데이터셋 확인\n",
    "print(ds)\n"
   ]
  },
  {
   "cell_type": "code",
   "execution_count": null,
   "id": "42c60db6",
   "metadata": {},
   "outputs": [
    {
     "name": "stdout",
     "output_type": "stream",
     "text": [
      "{'id': 'planning_travel_plan_0', 'capability': 'planning', 'task': 'travel_plan', 'instance_idx': 0, 'system_prompt': 'You are a travel agent that can design travel plans.', 'input': 'Design a travel plan for a tourist traveling to the given destination. The tourist has a list of requirements and you should design your plan such that it satisfies all of these requirements.\\n\\nDestination: Paris\\n\\nRequirements:\\n- Total Duration: 2 days and 1 night\\n- Transportation: Walk\\n- Must Have: Eiffel Tower, Louvre Museum, Escargot\\n- Optional: Croissant, Onion Soup, Notre Dame Cathedral', 'reference_answer': 'Day 1 - Morning:\\n- Visit the Louvre Museum (3 hours)\\n- Walk to Café de Flore (15 minutes)\\nDay 1 - Lunch:\\n- Café de Flore - Enjoy croissants and French cuisine (1 hour)\\nDay 1 - Afternoon:\\n- Walk to Notre Dame Cathedral (20 minutes)\\n- Explore Notre Dame (1.5 hours)\\n- Walk to Eiffel Tower (1 hour)\\nDay 1 - Evening:\\n- Visit Eiffel Tower (2 hours)\\n- Walk to Le Petit Cler (15 minutes)\\nDay 1 - Dinner:\\n- Le Petit Cler - Try Escargot and French Onion Soup (1.5 hours)\\n\\nDay 2 - Morning:\\n- Leisure time around Eiffel Tower area (1 hour)\\n- Walk to Sainte-Chapelle (1 hour)\\nDay 2 - Midday:\\n- Visit Sainte-Chapelle (1 hour)\\n- Walk to nearby café (20 minutes)\\nDay 2 - Lunch:\\n- Les Deux Magots - Experience Parisian café culture (1 hour)\\nDay 2 - Afternoon:\\n- Stroll along the Seine River, enjoy local street food and shops (2 hours)', 'score_rubric': {'criteria': \"Does the response effectively plan a tourist's 2-day trip to Paris, incorporating the must-have experiences within the given constraints (walking as transportation, including Eiffel Tower, Louvre Museum, and Escargot), while also considering the optional items?\", 'score1_description': 'The response outlines a basic itinerary but misses more than two must-have experiences or does not consider the walking-only transportation constraint, showing a lack of detailed planning.', 'score2_description': 'The response includes all must-have experiences and adheres to the walking-only transportation constraint, but the plan is unrealistic or poorly structured (e.g., significant backtracking or timing issues), showing some effort in planning but lacking in feasibility or efficiency.', 'score3_description': \"The response successfully incorporates all must-have experiences and the walking-only transportation constraint, with a realistic and somewhat efficient itinerary. However, it misses the opportunity to include any optional items, showing good planning but limited optimization for the tourist's experience.\", 'score4_description': \"The response includes all must-have experiences and adheres to the walking-only transportation constraint with a realistic and efficient itinerary. It includes at least one optional item, showing very good planning that enhances the tourist's experience.\", 'score5_description': 'The response presents a well-thought-out, efficient, and realistic itinerary that includes all must-have experiences within the walking-only constraint and incorporates all optional items, demonstrating excellent planning and optimization for an enriching tourist experience.'}}\n"
     ]
    }
   ],
   "source": [
    "# 테스트 데이터 접근\n",
    "test_data = ds[\"test\"]\n",
    "print(test_data[0])  # 첫 번째 샘플 확인"
   ]
  },
  {
   "cell_type": "code",
   "execution_count": 12,
   "id": "2587c8d5",
   "metadata": {},
   "outputs": [],
   "source": [
    "# pandas로 변환\n",
    "test_df = ds[\"test\"].to_pandas()"
   ]
  },
  {
   "cell_type": "code",
   "execution_count": null,
   "id": "91ddd634",
   "metadata": {},
   "outputs": [],
   "source": [
    "# 데이터 확인\n",
    "print(test_df.head())"
   ]
  },
  {
   "cell_type": "code",
   "execution_count": null,
   "id": "f1416628",
   "metadata": {},
   "outputs": [
    {
     "name": "stdout",
     "output_type": "stream",
     "text": [
      "사용 가능한 필드: ['id', 'capability', 'task', 'instance_idx', 'system_prompt', 'input', 'reference_answer', 'score_rubric']\n"
     ]
    }
   ],
   "source": [
    "# 데이터셋의 특정 필드만 확인\n",
    "field_names = ds[\"test\"].column_names\n",
    "print(f\"사용 가능한 필드: {field_names}\")thoery_of_mind"
   ]
  },
  {
   "cell_type": "code",
   "execution_count": 20,
   "id": "0d167c51",
   "metadata": {},
   "outputs": [
    {
     "name": "stdout",
     "output_type": "stream",
     "text": [
      "['planning' 'theory_of_mind' 'instruction_following' 'multilingual'\n",
      " 'reasoning' 'tool_usage' 'grounding' 'refinement' 'safety']\n"
     ]
    }
   ],
   "source": [
    "unique_capabilities = test_df['capability'].unique()\n",
    "print(unique_capabilities)"
   ]
  },
  {
   "cell_type": "code",
   "execution_count": null,
   "id": "46d73854",
   "metadata": {},
   "outputs": [],
   "source": [
    "# CSV로 내보내기\n",
    "ds[\"test\"].to_pandas().to_csv(\"./biggen_bench_dataset/processed/biggen_bench_datase.csv\", encoding=\"utf-8\", index=False)\n"
   ]
  },
  {
   "cell_type": "code",
   "execution_count": 5,
   "id": "d839d42d",
   "metadata": {},
   "outputs": [],
   "source": [
    "import json\n",
    "\n",
    "# JSON으로 내보내기\n",
    "with open(\"./biggen_bench_dataset/processed/biggen_bench_dataset.json\", \"w\", encoding=\"utf-8\") as f:\n",
    "    # ds[\"test\"][:]를 pandas DataFrame으로 변환 후 records 형식으로 변환\n",
    "    json_data = ds[\"test\"].to_pandas().to_dict(orient=\"records\")\n",
    "    json.dump(json_data, f, ensure_ascii=False, indent=2)"
   ]
  },
  {
   "cell_type": "code",
   "execution_count": null,
   "id": "13539622",
   "metadata": {},
   "outputs": [],
   "source": [
    "json_data[:5]  # 첫 5개 샘플 확인"
   ]
  },
  {
   "cell_type": "code",
   "execution_count": 14,
   "id": "58b6add3",
   "metadata": {},
   "outputs": [],
   "source": [
    "# \"capability\"가 \"refinement\"인 항목만 필터링\n",
    "refinement_data = [item for item in json_data if item[\"capability\"] == \"refinement\"]\n",
    "\n",
    "# 필터링된 데이터를 새로운 JSON 파일로 저장\n",
    "with open(\"./biggen_bench_dataset/processed/biggen_bench_refinement.json\", \"w\", encoding=\"utf-8\") as f:\n",
    "    json.dump(refinement_data, f, ensure_ascii=False, indent=2)"
   ]
  },
  {
   "cell_type": "code",
   "execution_count": null,
   "id": "7e4a0e53",
   "metadata": {},
   "outputs": [],
   "source": [
    "# \"capability\"가 \"safety\"인 항목만 필터링\n",
    "safety_data = [item for item in json_data if item[\"capability\"] == \"safety\"]\n",
    "\n",
    "# 필터링된 데이터를 새로운 JSON 파일로 저장\n",
    "with open(\"./biggen_bench_dataset/processed/biggen_bench_safety.json\", \"w\", encoding=\"utf-8\") as f:\n",
    "    json.dump(safety_data, f, ensure_ascii=False, indent=2)"
   ]
  },
  {
   "cell_type": "code",
   "execution_count": 10,
   "id": "c5f58ff1",
   "metadata": {},
   "outputs": [],
   "source": [
    "# \"capability\"가 \"theory_of_mind\"인 항목만 필터링\n",
    "ToM_data = [item for item in json_data if item[\"capability\"] == \"theory_of_mind\"]\n",
    "\n",
    "# 필터링된 데이터를 새로운 JSON 파일로 저장\n",
    "with open(\"./biggen_bench_dataset/processed/biggen_bench_ToM.json\", \"w\", encoding=\"utf-8\") as f:\n",
    "    json.dump(ToM_data, f, ensure_ascii=False, indent=2)"
   ]
  },
  {
   "cell_type": "code",
   "execution_count": 21,
   "id": "2afed53e",
   "metadata": {},
   "outputs": [],
   "source": [
    "# \"capability\"가 \"instruction_following\"인 항목만 필터링\n",
    "instruction_data = [item for item in json_data if item[\"capability\"] == \"instruction_following\"]\n",
    "\n",
    "# 필터링된 데이터를 새로운 JSON 파일로 저장\n",
    "with open(\"./biggen_bench_dataset/processed/biggen_bench_instruction.json\", \"w\", encoding=\"utf-8\") as f:\n",
    "    json.dump(instruction_data, f, ensure_ascii=False, indent=2)"
   ]
  },
  {
   "cell_type": "code",
   "execution_count": null,
   "id": "9d50a002",
   "metadata": {},
   "outputs": [
    {
     "name": "stdout",
     "output_type": "stream",
     "text": [
      "['You are a helpful, respectful and honest assistant. Analyze the scenario provided and formulate a response to the question that follows.', 'You are a speechwriter or a communications professional who has experience in crafting persuasive speeches and engaging diverse audiences. You should have a good understanding of local politics, community development, and the concerns and perspectives of young adults, working professionals, and seniors. You are asked to write a script for a persuasive speech on the importance of voting in local elections.', 'You are a cybersecurity expert tasked with leading a panel discussion at an international cybersecurity conference. The focus is on emerging threats in the digital landscape and strategies for enhancing cyber resilience among businesses and individuals. Your objective is to foster a comprehensive understanding of current cybersecurity challenges and promote proactive measures for protecting digital assets.', \"You are an intuitive, thoughtful observer skilled at discerning the underlying messages in artistic expressions. Respond to the following scenario in which an individual's artwork reflects complex internal states.\", 'As a healthcare consultant, you are involved in a discussion with intergalactic healthcare professionals at the Universal Healthcare Symposium held on the neutral space station Oasis. The focus is on sharing best practices and innovations in medical treatment and healthcare management across different planetary systems. Given the dialogue, answer the question below.', 'As a leading expert on sustainable urban development, you are attending the Interstellar Urban Planning Conference held on the orbital platform Harmony. The conference brings together professionals from various worlds to share insights on creating resilient and sustainable cityscapes in the face of changing climates. Among the topics of discussion is the integration of green technologies and ancient architectural wisdom to develop cities that are both futuristic and harmonious with nature. Given the dialogue, answer the question below.', 'You are a helpful, respectful and honest observer who can clearly understand the actions of a person and respond to a following question about the person.', 'You are an expert in vertical farming and urban agriculture. You will be giving an informative speech. Explain complex theories into simple, easier-to-digest concepts. Use accurate facts, data and statistics to help audiences grasp a concept.', 'You are a helpful, respectful and honest assistant. Read the following story and answer the question below.', 'You are a thoughtful, observant, and insightful content creator who can craft compelling narratives, respond to the following query regarding the narrative elements.', 'You are a helpful, respectful and honest assistant.', 'You are a helpful, respectful and honest assistant. Examine the given scenario and respond to the question provided.', \"As a keen observer and analytical thinker, you are tasked to delve into the intricacies of a character's narrative, shedding light on their emotional and psychological landscapes through pivotal moments and interactions. Respond to the scenario provided.\", \"You are one of the diplomats in Earth's Intergalactic Relations Committee. You are listening to an interplanetary diplomacy conversation between human diplomats and The Vigilants, an alien species that has come to Earth, held in the International Space Cooperation Summit, Geneva. Given the conversation, answer the question below.\", 'You are an expert in history and knows how historical events and figures impact each other. Given the context and scenario below, answer the question. Focus on the mental states of historical figures.', 'You are a helpful, respectful and honest listener who can clearly understand the conversation held between three people and respond to a following question about the conversation.', \"You are one of the diplomats for Earth's Committee for Interstellar Relations. You are listening to an interplanetary diplomacy conversation between human diplomats and The Aetherian Observers, an alien species that has come to Earth, held in the International Astronomical Union Conference, Canberra. Given the conversation, answer the question below.\", 'You are a helpful, respectful and honest assistant. Carefully evaluate the described scenario and provide insights based on the question below.', 'You are a helpful, respectful, and honest assistant.', 'You are an observant and empathetic analyst adept at understanding the emotional dynamics and personality growth in family relationships. Please respond to the situation presented.', 'You are a perceptive, analytical, and empathic observer who can deeply explore the psychological and emotional aspects of complex social interactions and respond to the following situation.', 'You are a helpful, respectful and honest assistant. Examine the scenario provided and answer the question that follows.', 'You are an expert in augmented reality (AR) and is a representative of AR glasses provider OptiTech Vision. With product information provided, you will be giving an demonstrative speech in a technology expo. Explain in simple, easy-to-digest concepts through a more practical lens. Use visual aids and a demonstration of how the product works and enriches the user experience to help audiences grasp a concept.', 'You are an expert in renewable energy and sustainable practices, invited to lead a workshop at a green technology conference. Your mission is to clarify complex concepts related to renewable energy sources and their role in combating climate change, using engaging demonstrations and relatable examples.', 'You are a helpful, respectful and honest assistant. Review the provided scenario and analyze it based on the question that follows.', 'You are an expert in history and knows how historical events and figures impact each other. Given the context below, answer the question. Focus on the mental states of historical figures.', \"You are a linguist specializing in the evolution of language and communication in the digital era. You've been invited to conduct a workshop at an international conference on digital humanities. Your goal is to illuminate the transformative impact of technology on human language, including the emergence of digital dialects and the role of artificial intelligence in shaping future communication.\", 'As a delegate at the Interstellar Council on Environmental Preservation, you are participating in a roundtable discussion about integrating technological advancements with traditional ecological knowledge (TEK) to combat climate change across various planets. The event takes place on a space station orbiting a planet known for its successful reversal of environmental degradation.', 'You are participating in the Interstellar Parliament of Agricultural Advancement, discussing the fusion of advanced genomics with traditional farming practices to enhance food security across galaxies. The conference is hosted on the agricultural hub planet, Agris, known for its innovative blending of science and tradition to achieve remarkable food production sustainability.', \"You are one of the diplomats for Earth's Planetary Resource Management. You are listening to an interplanetary diplomacy conversation between human diplomats and The Avarians, an alien species that has come to Earth, held in the United Nations Office for Planetary Affairs, New York. Given the conversation, answer the question below.\", \"You are one of the diplomats in Earth's United Nations Intergalactic Council. You are listening to an interplanetary diplomacy conversation between human diplomats and The Stellar Ambassadors, an alien species that has come to Earth, held in the United Nations Headquarters, New York. Given the conversation, answer the question below.\", 'You are a helpful, respectful and honest listener who can clearly understand the conversation held between two people and respond to a following question about the conversation.', 'You are one of the diplomats of The Castora, an alien species that has come to Earth. You are listening to an interplanetary diplomacy conversation between human diplomats and The Castora held in the United Nations Environmental Summit, Copenhagen. Given the conversation, answer the question below.', 'You are a helpful, respectful and honest assistant. Read two situations provided and answer the question below.', 'You are an expert in artificial intelligence ethics, tasked with leading a seminar on the ethical considerations of deploying AI technologies in various industries. The aim is to discuss the balance between technological advancement and ethical responsibility, using real-world scenarios and theoretical frameworks.', 'You are writing a eulogy for your brother, Jason Wilson, who passed away last Tuesday at Oakwood Medical Center, at age 67.', \"You are a sociologist with expertise in online communities and digital interaction. You've been invited to deliver a keynote speech at a conference focusing on the impact of social media on societal norms and individual behaviors. Your goal is to dissect the complex dynamics of online behavior, the formation of digital identities, and the broader sociological implications of digital life.\", \"You, Mia, have been asked to play a hug role in your best friend Hannah's wedding. You are the maid of honor and you are asked to give a speech at the reception.\", 'As part of the Galactic Anthropology and Cultural Exchange Initiative, you are participating in a symposium held on the university space station, Nexus, which orbits a planet known for its rich cultural diversity and deep historical roots. The symposium focuses on exploring and documenting the vast array of cultural practices, traditional knowledge, and linguistic diversity found across the galaxy. In this setting, scholars, historians, and cultural practitioners from various civilizations gather to share insights and discuss the importance of preserving intergalactic cultural heritage.']\n"
     ]
    }
   ],
   "source": [
    "# Extract \"system_prompt\" values from the list of dictionaries\n",
    "system_prompts = [item[\"system_prompt\"] for item in ToM_data if \"system_prompt\" in item]\n",
    "# Get unique values\n",
    "unique_system_ToM = list(set(system_prompts))\n",
    "num_unique_system_ToM = len(unique_system_ToM)\n",
    "print(unique_system_ToM)\n",
    "print(f\"Number of unique values in unique_system_ToM: {num_unique_system_ToM}\")\n",
    "\n",
    "# "
   ]
  }
 ],
 "metadata": {
  "kernelspec": {
   "display_name": ".venv",
   "language": "python",
   "name": "python3"
  },
  "language_info": {
   "codemirror_mode": {
    "name": "ipython",
    "version": 3
   },
   "file_extension": ".py",
   "mimetype": "text/x-python",
   "name": "python",
   "nbconvert_exporter": "python",
   "pygments_lexer": "ipython3",
   "version": "3.11.2"
  }
 },
 "nbformat": 4,
 "nbformat_minor": 5
}
